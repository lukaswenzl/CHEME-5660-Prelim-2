{
 "cells": [
  {
   "cell_type": "markdown",
   "metadata": {},
   "source": [
    "## CHEME 5660 Actual Prelim 2 Options Question - Lukas Wenzl"
   ]
  },
  {
   "cell_type": "markdown",
   "metadata": {},
   "source": [
    "A trader at Olin Financial, an up-and-coming hedge fund, sold a short strangle on firm XYZ with a `01/20/2023` expiration. \n",
    "\n",
    "__Assumptions__: (i) the short put (contract 1) has a strike price of $K_{1}$ = 230.0 USD/share and an implied volatility of 58.97\\%; (ii) the short call (contract 2) has a strike price of $K_{2}$ = 300.0 USD/share and an implied volatility of 52.59\\%; (iii) there are 78 days to 01/20/2023 (from today); (iv) the current share price of XYZ is 270.89 USD/share; (v) the risk-free rate is 4.10\\%.\n",
    "\n",
    "Use the Jupyter notebook `CHEME-5660-PP2-Options.ipynb`, and any associated data sets or other course materials to answer the following questions:\n",
    "\n",
    "* a) Compute the premiums for the put $\\mathcal{P}_{1}$ and call $\\mathcal{P}_{2}$ contracts for the `01/20/2023` short strangle on firm XYZ using the Cox, Ross, and Rubinstein (CRR) binomial lattice model. \n",
    "* b) Compute the maximum profit and break-even points for the Olin Financial short strangle position on XYZ.\n",
    "* c) Compute the probability of the profit at expiration for the short strangle position by sampling the share price distribution from the `Equity` notebook. "
   ]
  },
  {
   "cell_type": "markdown",
   "metadata": {},
   "source": [
    "## Solution"
   ]
  },
  {
   "cell_type": "code",
   "execution_count": 12,
   "metadata": {},
   "outputs": [
    {
     "name": "stderr",
     "output_type": "stream",
     "text": [
      "\u001b[32m\u001b[1m  Activating\u001b[22m\u001b[39m project at `~/OtherCodes/CHEME-5660-Markets-Mayhem-Example-Notebooks/prelims/P2/actual`\n",
      "\u001b[32m\u001b[1m  No Changes\u001b[22m\u001b[39m to `~/OtherCodes/CHEME-5660-Markets-Mayhem-Example-Notebooks/prelims/P2/actual/Project.toml`\n",
      "\u001b[32m\u001b[1m  No Changes\u001b[22m\u001b[39m to `~/OtherCodes/CHEME-5660-Markets-Mayhem-Example-Notebooks/prelims/P2/actual/Manifest.toml`\n"
     ]
    }
   ],
   "source": [
    "import Pkg; Pkg.activate(\".\"); Pkg.resolve(); Pkg.instantiate();"
   ]
  },
  {
   "cell_type": "code",
   "execution_count": 13,
   "metadata": {},
   "outputs": [],
   "source": [
    "# load external packages that are required for the calculations -\n",
    "using DataFrames\n",
    "using CSV\n",
    "using Dates\n",
    "using Statistics\n",
    "using LinearAlgebra\n",
    "using Plots\n",
    "using Colors\n",
    "using Distributions\n",
    "using StatsPlots\n",
    "using PQEcolaPoint\n",
    "\n",
    "# setup paths to load XYZ OHLC data set -\n",
    "const _NOTEBOOK_ROOT = pwd();\n",
    "const _PATH_TO_DATA = joinpath(_NOTEBOOK_ROOT, \"data\");"
   ]
  },
  {
   "cell_type": "code",
   "execution_count": 14,
   "metadata": {},
   "outputs": [],
   "source": [
    "include(\"CHEME-5560-AP2-CodeLib.jl\"); # Look inside me to find out what I have!"
   ]
  },
  {
   "cell_type": "code",
   "execution_count": 15,
   "metadata": {},
   "outputs": [],
   "source": [
    "# Date -\n",
    "#D = Date(2022, 12, 16); # date when contracts expire \n",
    "D = Date(2023, 1, 20); # date when contracts expire \n",
    "\n",
    "# contract 1 parameters -\n",
    "IV₁ = 58.97; # implied volatility for contract 1 (short put)\n",
    "K₁ = 230.0;   # strike price short put\n",
    "T₁ = ticker(\"P\", \"XYZ\", D, K₁);\n",
    "\n",
    "# contract 2 parameters -\n",
    "IV₂ = 52.59; # implied volatility for contract 2 (short call)\n",
    "K₂ = 300.00;  # strike price short call #corrected K2. Template had 350.5\n",
    "T₂ = ticker(\"C\", \"XYZ\", D, K₂);\n",
    "\n",
    "# setup some shared constants\n",
    "B = 365.0;   # number of days in a year\n",
    "μ = 0.0410;  # risk-free rate\n",
    "DTE = 78.0;  # days to expiration\n",
    "\n",
    "# What is the current share price?\n",
    "Sₒ = 270.89;\n",
    "\n",
    "# How many levels on the tree?\n",
    "L = 100;\n",
    "\n",
    "# How many sample do we have?\n",
    "number_of_samples = 10000;"
   ]
  },
  {
   "cell_type": "markdown",
   "metadata": {},
   "source": [
    "### a) Estimate the price of the call and put contracts"
   ]
  },
  {
   "cell_type": "code",
   "execution_count": 16,
   "metadata": {},
   "outputs": [],
   "source": [
    "# build the contracts for the trades -\n",
    "put_contract_model = build(PutContractModel, (\n",
    "    ticker = T₁,\n",
    "    expiration_date = D,\n",
    "    strike_price = K₁,\n",
    "    premium = 0.0,\n",
    "    number_of_contracts = 1,\n",
    "    direction = 1, # Bug or feature? => always use 1 here (even if we are selling)\n",
    "    current_price = 0.0      \n",
    "));\n",
    "\n",
    "call_contract_model = build(CallContractModel, (\n",
    "    ticker = T₂,\n",
    "    expiration_date = D,\n",
    "    strike_price = K₂,\n",
    "    premium = 0.0,\n",
    "    number_of_contracts = 1,\n",
    "    direction = 1, # Bug or feature? => always use 1 here (even if we are selling)\n",
    "    current_price = 0.0      \n",
    "));"
   ]
  },
  {
   "cell_type": "code",
   "execution_count": 17,
   "metadata": {},
   "outputs": [],
   "source": [
    "# build the lattice models -\n",
    "#note: different since IV are different\n",
    "lattice_model_put = build(CRRLatticeModel; number_of_levels=(L+1), Sₒ = Sₒ, σ = (IV₁/100.0), μ = μ, T = (DTE/B));\n",
    "lattice_model_call = build(CRRLatticeModel; number_of_levels=(L+1), Sₒ = Sₒ, σ = (IV₂/100.0), μ = μ, T = (DTE/B));"
   ]
  },
  {
   "cell_type": "code",
   "execution_count": 18,
   "metadata": {},
   "outputs": [
    {
     "name": "stdout",
     "output_type": "stream",
     "text": [
      "Put contract price = 10.679189410786357 (USD/share)\n"
     ]
    }
   ],
   "source": [
    "# compute the price of the put contract using the premium method\n",
    "price_put_contract = premium(put_contract_model, lattice_model_put);\n",
    "println(\"Put contract price = $(price_put_contract) (USD/share)\")"
   ]
  },
  {
   "cell_type": "code",
   "execution_count": 19,
   "metadata": {},
   "outputs": [
    {
     "name": "stdout",
     "output_type": "stream",
     "text": [
      "Call contract price = 16.078618669611114 (USD/share)\n"
     ]
    }
   ],
   "source": [
    "# compute the price of the call contract using the premium method\n",
    "price_call_contract = premium(call_contract_model, lattice_model_call);\n",
    "println(\"Call contract price = $(price_call_contract) (USD/share)\")"
   ]
  },
  {
   "cell_type": "markdown",
   "metadata": {},
   "source": [
    "### b) Compute the maximum profit and breakeven points for the short strangle at expiration"
   ]
  },
  {
   "cell_type": "code",
   "execution_count": 9,
   "metadata": {},
   "outputs": [],
   "source": [
    "# Compute max profit and break even points for the short strange ..."
   ]
  },
  {
   "cell_type": "code",
   "execution_count": 20,
   "metadata": {},
   "outputs": [
    {
     "name": "stdout",
     "output_type": "stream",
     "text": [
      "Max profit = 26.75780808039747 (USD/share)\n"
     ]
    }
   ],
   "source": [
    "# max profit occurs when trade is opened -\n",
    "max_profit = (price_put_contract + price_call_contract)\n",
    "println(\"Max profit = $(max_profit) (USD/share)\")"
   ]
  },
  {
   "cell_type": "code",
   "execution_count": 21,
   "metadata": {},
   "outputs": [
    {
     "name": "stdout",
     "output_type": "stream",
     "text": [
      "Break-even share price (low) B₁ = 203.24219191960253 (USD/share)\n"
     ]
    }
   ],
   "source": [
    "# Break even 1 (low) -\n",
    "B₁ = K₁ - (price_call_contract + price_put_contract)\n",
    "println(\"Break-even share price (low) B₁ = $(B₁) (USD/share)\")"
   ]
  },
  {
   "cell_type": "code",
   "execution_count": 22,
   "metadata": {},
   "outputs": [
    {
     "name": "stdout",
     "output_type": "stream",
     "text": [
      "Break-even share price (high) B₂= 326.75780808039747 (USD/share)\n"
     ]
    }
   ],
   "source": [
    "# Break even 2 (high) -\n",
    "B₂ = K₂ + (price_call_contract + price_put_contract)\n",
    "println(\"Break-even share price (high) B₂= $(B₂) (USD/share)\")"
   ]
  },
  {
   "cell_type": "markdown",
   "metadata": {},
   "source": [
    "### c) Compute the probability of profit at expiration \n",
    "The probability of profit for a short strangle is the probability that we close between the low and high break-even points. Thus, we are looking for the value:\n",
    "\n",
    "$$P(B_{1}<X\\leq{B_{2}}) = F_{X}(B_{2}) - F_{X}(B_{1})$$\n",
    "\n",
    "where $B_{\\star}$ denotes the respective break-even points, and $F_{X}(x)$ is:\n",
    "\n",
    "$$F_{X}(x) = P(X\\leq{x})$$\n",
    "\n",
    "that is, the probability that a random-variable $X$ is less than (or equal) to a specified value $x$. Check out the `P` function in the CodeLib to estimate $P(X\\leq{x})$ or to fit a cumulative distribution, see [the Distributions.jl documentation](https://juliastats.org/Distributions.jl/stable/univariate/#Distributions.cdf-Tuple{UnivariateDistribution,%20Real})."
   ]
  },
  {
   "cell_type": "code",
   "execution_count": 23,
   "metadata": {},
   "outputs": [],
   "source": [
    "# build a log normal distribution from the previous GBM simulations \n",
    "#these values are copied over from the other notebook\n",
    "μ̂ = 5.91219\n",
    "σ̂ = 0.24192\n",
    "d = LogNormal(μ̂, σ̂);"
   ]
  },
  {
   "cell_type": "code",
   "execution_count": 25,
   "metadata": {},
   "outputs": [],
   "source": [
    "# sample the future price distribution -\n",
    "N = 10000;\n",
    "S_expiration = rand(d,N);"
   ]
  },
  {
   "cell_type": "code",
   "execution_count": 26,
   "metadata": {},
   "outputs": [],
   "source": [
    "# compute the probability of profit -\n",
    "\n",
    "# we are profitable if we close between the break even prices -\n",
    "prob_less_than_B1 = P(S_expiration, B₁); #this function gets probability less than second argument to function\n",
    "prob_less_than_B2 = P(S_expiration, B₂);"
   ]
  },
  {
   "cell_type": "code",
   "execution_count": 27,
   "metadata": {},
   "outputs": [
    {
     "data": {
      "text/plain": [
       "0.2997"
      ]
     },
     "execution_count": 27,
     "metadata": {},
     "output_type": "execute_result"
    }
   ],
   "source": [
    "#printing out the probability of profit at expiration\n",
    "POP = prob_less_than_B2 - prob_less_than_B1 #difference since both are prob less than"
   ]
  },
  {
   "cell_type": "code",
   "execution_count": null,
   "metadata": {},
   "outputs": [],
   "source": []
  }
 ],
 "metadata": {
  "kernelspec": {
   "display_name": "Julia 1.8.0",
   "language": "julia",
   "name": "julia-1.8"
  },
  "language_info": {
   "file_extension": ".jl",
   "mimetype": "application/julia",
   "name": "julia",
   "version": "1.8.0"
  }
 },
 "nbformat": 4,
 "nbformat_minor": 5
}
